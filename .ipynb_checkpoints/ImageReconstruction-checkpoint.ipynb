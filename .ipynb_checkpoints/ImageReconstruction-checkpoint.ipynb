{
 "cells": [
  {
   "cell_type": "markdown",
   "metadata": {},
   "source": [
    "# Image deblurring denoising\n",
    "# Image reconstruction"
   ]
  },
  {
   "cell_type": "code",
   "execution_count": 1,
   "metadata": {},
   "outputs": [],
   "source": [
    "import numpy as np\n",
    "import matplotlib.pyplot as plt\n",
    "%matplotlib inline\n",
    "# Local import\n",
    "from dataprocess import DataLoader, Blurr, Add_noise\n",
    "from imestimator import Estimator_TV\n",
    "from posttreat import Display\n",
    "from posttreat import Error_Display"
   ]
  },
  {
   "cell_type": "code",
   "execution_count": 2,
   "metadata": {},
   "outputs": [],
   "source": [
    "import os\n",
    "from PIL import Image\n",
    "from scipy import signal\n",
    "from scipy import interpolate"
   ]
  },
  {
   "cell_type": "markdown",
   "metadata": {},
   "source": [
    "#### Image "
   ]
  },
  {
   "cell_type": "code",
   "execution_count": 3,
   "metadata": {},
   "outputs": [
    {
     "name": "stdout",
     "output_type": "stream",
     "text": [
      "Taille de l'image :\n"
     ]
    },
    {
     "data": {
      "text/plain": [
       "(600, 800)"
      ]
     },
     "execution_count": 3,
     "metadata": {},
     "output_type": "execute_result"
    }
   ],
   "source": [
    "file_name = 'Images'\n",
    "im_name   = 'image01.png'\n",
    "x_i = DataLoader(file_name,im_name)\n",
    "# Taille de l'image\n",
    "print(\"Taille de l'image :\")\n",
    "print(x_i.shape)\n",
    "# Rescaling\n",
    "x_i = x_i/np.linalg.norm(x_i)"
   ]
  },
  {
   "cell_type": "markdown",
   "metadata": {},
   "source": [
    "#### Kernel"
   ]
  },
  {
   "cell_type": "code",
   "execution_count": 4,
   "metadata": {},
   "outputs": [
    {
     "name": "stdout",
     "output_type": "stream",
     "text": [
      "2D Gaussian-like array:\n"
     ]
    },
    {
     "data": {
      "text/plain": [
       "<matplotlib.image.AxesImage at 0x7fda5fbc6a58>"
      ]
     },
     "execution_count": 4,
     "metadata": {},
     "output_type": "execute_result"
    },
    {
     "data": {
      "image/png": "[encoded data removed]",
      "text/plain": [
       "<Figure size 432x288 with 1 Axes>"
      ]
     },
     "metadata": {
      "needs_background": "light"
     },
     "output_type": "display_data"
    }
   ],
   "source": [
    "M         = 20\n",
    "Nx, Ny    = np.meshgrid(np.linspace(-1,1,2*M), np.linspace(-1,1,2*M))\n",
    "d         = np.sqrt(Nx*Nx+Ny*Ny)\n",
    "sigma, mu = 0.1, 0.0\n",
    "K         = np.exp(-( (d-mu)**2 / ( 2.0 * sigma**2 ) ) )\n",
    "K         = K/K.sum()\n",
    "print(\"2D Gaussian-like array:\")\n",
    "plt.imshow(K)"
   ]
  },
  {
   "cell_type": "markdown",
   "metadata": {},
   "source": [
    "#### Image reconstruction"
   ]
  },
  {
   "cell_type": "code",
   "execution_count": 5,
   "metadata": {},
   "outputs": [],
   "source": [
    "x_b = Blurr(x_i,K)\n",
    "x_o1 = Add_noise(x_b)\n",
    "x_o2 = Add_noise(x_b, noise_level = 0.1)"
   ]
  },
  {
   "cell_type": "markdown",
   "metadata": {},
   "source": [
    "##### No noise"
   ]
  },
  {
   "cell_type": "code",
   "execution_count": null,
   "metadata": {},
   "outputs": [],
   "source": [
    "alpha = 1\n",
    "mu    = 1\n",
    "x_r = Estimator_TV(x_b,K,alpha,mu,niter = 5000)"
   ]
  },
  {
   "cell_type": "code",
   "execution_count": null,
   "metadata": {},
   "outputs": [],
   "source": [
    "fig, (ax0, ax1) = plt.subplots(1, 2, figsize=(15,7))\n",
    "# initial image\n",
    "ax0.imshow(x_i,cmap='gray')\n",
    "ax0.set_title('Initial')\n",
    "ax0.axis('off')\n",
    "# Reconstruct image\n",
    "ax1.imshow(x_r,cmap='gray')\n",
    "ax1.set_title('Reconstruct image')\n",
    "ax1.axis('off')\n",
    "# Show plot\n",
    "plt.show()\n",
    "# Error computation and dispay\n",
    "norm     = np.linalg.norm(x_i)\n",
    "error_l2 = np.linalg.norm(x_r-x_i)/norm\n",
    "print(\"Erreur totale :\")\n",
    "print(error_l2)"
   ]
  },
  {
   "cell_type": "markdown",
   "metadata": {},
   "source": [
    "##### Noise 5%"
   ]
  },
  {
   "cell_type": "code",
   "execution_count": null,
   "metadata": {},
   "outputs": [],
   "source": [
    "alpha = 100\n",
    "mu    = 1\n",
    "x_r = Estimator_TV(x_o1,K,alpha,mu,niter = 5000)"
   ]
  },
  {
   "cell_type": "code",
   "execution_count": null,
   "metadata": {},
   "outputs": [],
   "source": [
    "fig, (ax0, ax1) = plt.subplots(1, 2, figsize=(15,7))\n",
    "# initial image\n",
    "ax0.imshow(x_i,cmap='gray')\n",
    "ax0.set_title('Initial')\n",
    "ax0.axis('off')\n",
    "# Reconstruct image\n",
    "ax1.imshow(x_r,cmap='gray')\n",
    "ax1.set_title('Reconstruct image')\n",
    "ax1.axis('off')\n",
    "# Show plot\n",
    "plt.show()\n",
    "# Error computation and dispay\n",
    "norm     = np.linalg.norm(x_i)\n",
    "error_l2 = np.linalg.norm(x_r-x_i)/norm\n",
    "print(\"Erreur totale :\")\n",
    "print(error_l2)"
   ]
  },
  {
   "cell_type": "markdown",
   "metadata": {},
   "source": [
    "##### Noise 10%"
   ]
  },
  {
   "cell_type": "code",
   "execution_count": null,
   "metadata": {},
   "outputs": [],
   "source": [
    "alpha = 100\n",
    "mu    = 1\n",
    "x_r = Estimator_TV(x_o2,K,alpha,mu,niter = 5000)"
   ]
  },
  {
   "cell_type": "code",
   "execution_count": null,
   "metadata": {},
   "outputs": [],
   "source": [
    "fig, (ax0, ax1) = plt.subplots(1, 2, figsize=(15,7))\n",
    "# initial image\n",
    "ax0.imshow(x_i,cmap='gray')\n",
    "ax0.set_title('Initial')\n",
    "ax0.axis('off')\n",
    "# Reconstruct image\n",
    "ax1.imshow(x_r,cmap='gray')\n",
    "ax1.set_title('Reconstruct image')\n",
    "ax1.axis('off')\n",
    "# Show plot\n",
    "plt.show()\n",
    "# Error computation and dispay\n",
    "norm     = np.linalg.norm(x_i)\n",
    "error_l2 = np.linalg.norm(x_r-x_i)/norm\n",
    "print(\"Erreur totale :\")\n",
    "print(error_l2)"
   ]
  }
 ],
 "metadata": {
  "kernelspec": {
   "display_name": "Python 3",
   "language": "python",
   "name": "python3"
  },
  "language_info": {
   "codemirror_mode": {
    "name": "ipython",
    "version": 3
   },
   "file_extension": ".py",
   "mimetype": "text/x-python",
   "name": "python",
   "nbconvert_exporter": "python",
   "pygments_lexer": "ipython3",
   "version": "3.6.9"
  }
 },
 "nbformat": 4,
 "nbformat_minor": 4
}
