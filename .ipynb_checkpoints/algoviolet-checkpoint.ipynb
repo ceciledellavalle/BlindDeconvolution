{
 "cells": [
  {
   "cell_type": "code",
   "execution_count": 1,
   "metadata": {},
   "outputs": [],
   "source": [
    "import numpy as np\n",
    "import os\n",
    "from PIL import Image\n",
    "from scipy import signal\n",
    "from scipy import interpolate\n",
    "import matplotlib.pyplot as plt\n",
    "%matplotlib inline"
   ]
  },
  {
   "cell_type": "markdown",
   "metadata": {},
   "source": [
    "# Minimisation fonction bi-convexe concave"
   ]
  },
  {
   "cell_type": "markdown",
   "metadata": {},
   "source": [
    "On introduit le probleme d'optimisation biconvex-concave\n",
    "de déconvolution aveugle d'images \n",
    "avec l' a priori de noyau de convolution régulier,\n",
    "\n",
    "$$\n",
    "\\underset{u \\in U ,K \\in \\Sigma}{\\text{min}} \\; \\underset{v}{\\text{sup}} \\;\n",
    "\\frac{1}{2} \\| g - K * u\\|^2 \n",
    "+ \\frac{1}{2} \\alpha \\| D K \\|^2\n",
    "+ \\mu \\langle \\nabla u , v \\rangle\n",
    "+ \\chi_{B,\\mu}(v)\n",
    "\\; .\n",
    "$$\n",
    "\n",
    "L'espace $\\Sigma$ correspond à l'ensemble des simplexes \n",
    "(ensemble des noyaux à coefficient positif dont la somme des coefficients vaut 1).\n",
    "Par extension on notera $\\Sigma$ la fonction indicatrice de cet ensemble.\n",
    "L'espace $U$ correspond à l'hypercube $[0,1]^{N_x \\times N_y}$, ou la boule unité pour la norme $L^\\infty$.\n",
    "\n",
    "La fonction à minimiser peut alors se réécrire\n",
    "\n",
    "$$\n",
    "\\underset{u ,K }{\\text{min}} \\; \\underset{v}{\\text{sup}} \\;\n",
    "\\frac{1}{2} \\| g - K * u\\|^2 \n",
    "+ \\chi_{B,\\| \\cdot \\|_1} (u)\n",
    "+ \\frac{1}{2} \\alpha \\| D K \\|^2\n",
    "+ \\mu \\langle \\nabla u , v \\rangle\n",
    "+ \\chi_{B,\\mu}(v)\n",
    "\\; .\n",
    "$$"
   ]
  },
  {
   "cell_type": "markdown",
   "metadata": {},
   "source": [
    "Pour résoudre ce probleme d'optimisation on se propose de tester l'algorithme suivant,\n",
    "\n",
    "$$\n",
    "\\left\\{\n",
    "\\begin{matrix}{l}\n",
    "u_{k+1} = \\text{prox}_{\\tau} \\; ()\\\\\n",
    "K_{k+1} = \\text{prox}_{\\sigma} \\; ()\\\\\n",
    "v_{k+1} = \\text{prox}_{\\gamma} \\; ()\\\\\n",
    " \\quad \\text{(relaxation)}\\\\\n",
    "\\end{matrix}\n",
    "\\right.\n",
    "$$"
   ]
  },
  {
   "cell_type": "code",
   "execution_count": null,
   "metadata": {},
   "outputs": [],
   "source": [
    "file_name = 'Images'\n",
    "im_name   = 'image01.png'\n",
    "x_i = DataLoader(file_name,im_name)\n",
    "x_i = x_i/np.amax(x_i)# Rescaling"
   ]
  },
  {
   "cell_type": "code",
   "execution_count": null,
   "metadata": {},
   "outputs": [],
   "source": [
    "M         = 20\n",
    "Nx, Ny    = np.meshgrid(np.linspace(-1,1,2*M), np.linspace(-1,1,2*M))\n",
    "d         = np.sqrt(Nx*Nx+Ny*Ny)\n",
    "sigma,moy = 0.1, 0.0\n",
    "K         = np.exp(-( (d-moy)**2 / ( 2.0 * sigma**2 ) ) )\n",
    "K         = K/K.sum() # Simplex"
   ]
  },
  {
   "cell_type": "code",
   "execution_count": null,
   "metadata": {},
   "outputs": [],
   "source": [
    "x_b  = Blurr(x_i,K)\n",
    "x_o1 = Add_noise(x_b)"
   ]
  }
 ],
 "metadata": {
  "kernelspec": {
   "display_name": "Python 3",
   "language": "python",
   "name": "python3"
  },
  "language_info": {
   "codemirror_mode": {
    "name": "ipython",
    "version": 3
   },
   "file_extension": ".py",
   "mimetype": "text/x-python",
   "name": "python",
   "nbconvert_exporter": "python",
   "pygments_lexer": "ipython3",
   "version": "3.9.1"
  }
 },
 "nbformat": 4,
 "nbformat_minor": 4
}
