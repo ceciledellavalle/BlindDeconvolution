{
 "cells": [
  {
   "cell_type": "code",
   "execution_count": 1,
   "metadata": {},
   "outputs": [
    {
     "ename": "ModuleNotFoundError",
     "evalue": "No module named 'Codes.posttreat'",
     "output_type": "error",
     "traceback": [
      "\u001b[0;31m---------------------------------------------------------------------------\u001b[0m",
      "\u001b[0;31mModuleNotFoundError\u001b[0m                       Traceback (most recent call last)",
      "\u001b[0;32m<ipython-input-1-7e2d4f315964>\u001b[0m in \u001b[0;36m<module>\u001b[0;34m\u001b[0m\n\u001b[1;32m     10\u001b[0m \u001b[0;32mfrom\u001b[0m \u001b[0mCodes\u001b[0m\u001b[0;34m.\u001b[0m\u001b[0mdataprocess\u001b[0m \u001b[0;32mimport\u001b[0m \u001b[0mDataLoader\u001b[0m\u001b[0;34m,\u001b[0m \u001b[0mBlurr\u001b[0m\u001b[0;34m,\u001b[0m \u001b[0mAdd_noise\u001b[0m\u001b[0;34m\u001b[0m\u001b[0;34m\u001b[0m\u001b[0m\n\u001b[1;32m     11\u001b[0m \u001b[0;32mfrom\u001b[0m \u001b[0mCodes\u001b[0m\u001b[0;34m.\u001b[0m\u001b[0malternate\u001b[0m \u001b[0;32mimport\u001b[0m \u001b[0mAlternatingBD\u001b[0m\u001b[0;34m\u001b[0m\u001b[0;34m\u001b[0m\u001b[0m\n\u001b[0;32m---> 12\u001b[0;31m \u001b[0;32mfrom\u001b[0m \u001b[0mCodes\u001b[0m\u001b[0;34m.\u001b[0m\u001b[0mposttreat\u001b[0m \u001b[0;32mimport\u001b[0m \u001b[0mDisplay\u001b[0m\u001b[0;34m\u001b[0m\u001b[0;34m\u001b[0m\u001b[0m\n\u001b[0m\u001b[1;32m     13\u001b[0m \u001b[0;32mfrom\u001b[0m \u001b[0mCodes\u001b[0m\u001b[0;34m.\u001b[0m\u001b[0mposttreat\u001b[0m \u001b[0;32mimport\u001b[0m \u001b[0mError_Display\u001b[0m\u001b[0;34m\u001b[0m\u001b[0;34m\u001b[0m\u001b[0m\n",
      "\u001b[0;31mModuleNotFoundError\u001b[0m: No module named 'Codes.posttreat'"
     ]
    }
   ],
   "source": [
    "# General import\n",
    "import numpy as np\n",
    "import os\n",
    "from PIL import Image\n",
    "from scipy import signal\n",
    "from scipy import interpolate\n",
    "import matplotlib.pyplot as plt\n",
    "%matplotlib inline\n",
    "# Local import\n",
    "from Codes.dataprocess import DataLoader, Blurr, Add_noise\n",
    "from Codes.alternate import AlternatingBD"
   ]
  },
  {
   "cell_type": "markdown",
   "metadata": {},
   "source": [
    "# Minimisation alternée"
   ]
  },
  {
   "cell_type": "markdown",
   "metadata": {},
   "source": [
    "Approche variationnelle pour la reconstruction d'un noyau régulier $K$, minimisation de l'énergie,\n",
    "$$\n",
    "E_1(K) = \\frac{1}{2} \\| g - K * u\\|^2 + \\frac{1}{2} \\alpha \\| D K \\|^2\n",
    "\\; .\n",
    "$$ \n",
    "On peut considérer que le noyau appartien a l'ensemble des simplexe (ensemble des noyaux à coefficient positif dont la somme vaut 1).\n",
    "On sonsidere alors l'énergie\n",
    "$$\n",
    "E_1'(K) = \\frac{1}{2} \\| g - K * u\\|^2 + \\frac{1}{2} \\alpha \\| D K \\|^2 + \\Sigma(K)\n",
    "\\; .\n",
    "$$ \n",
    "\n",
    "\n",
    "Approche variationnelle pour la reconstruction de l'image $u$, avec régularisation TV,\n",
    "$$\n",
    "E_2(u) = \\frac{1}{2} \\| g - K * u\\|^2 + \\frac{1}{2} \\mu \\text{TV} (u)\n",
    "\\; .\n",
    "$$\n",
    "\n",
    "Dans la minimisation alternée, on considere d'abord la minimisation de $E_2$ \n",
    "pour reconstruire l'image $u$, puis de $E_1$ (ou éventuellement $E_1'$) pour reconstruire le noyau $K$."
   ]
  },
  {
   "cell_type": "code",
   "execution_count": null,
   "metadata": {},
   "outputs": [],
   "source": [
    "file_name = 'Images'\n",
    "im_name   = 'image01.png'\n",
    "x_i = DataLoader(file_name,im_name)\n",
    "x_i = x_i/np.amax(x_i)# Rescaling"
   ]
  },
  {
   "cell_type": "code",
   "execution_count": null,
   "metadata": {},
   "outputs": [],
   "source": [
    "M         = 20\n",
    "Nx, Ny    = np.meshgrid(np.linspace(-1,1,2*M), np.linspace(-1,1,2*M))\n",
    "d         = np.sqrt(Nx*Nx+Ny*Ny)\n",
    "sigma,moy = 0.1, 0.0\n",
    "K         = np.exp(-( (d-moy)**2 / ( 2.0 * sigma**2 ) ) )\n",
    "K         = K/K.sum() # Simplex"
   ]
  },
  {
   "cell_type": "code",
   "execution_count": null,
   "metadata": {},
   "outputs": [],
   "source": [
    "x_b  = Blurr(x_i,K)\n",
    "x_o1 = Add_noise(x_b)"
   ]
  },
  {
   "cell_type": "markdown",
   "metadata": {},
   "source": [
    "### Initialisation juste - bruit 1%"
   ]
  },
  {
   "cell_type": "code",
   "execution_count": null,
   "metadata": {},
   "outputs": [],
   "source": [
    "alpha = 0.1\n",
    "mu    = 0.05\n",
    "K_in   = K.copy()\n",
    "x_in  = x_o1\n",
    "Kd,xd,Etot = AlternatingBD(K_in,x_in,x_o1,alpha,mu,alte=5,\\\n",
    "               niter_TV=200,niter_Lap =200,proj_simplex=False)"
   ]
  },
  {
   "cell_type": "code",
   "execution_count": null,
   "metadata": {},
   "outputs": [],
   "source": [
    "plt.plot(Etot,'+')\n",
    "plt.title(\"Initialisation juste, bruit 0.01\")"
   ]
  },
  {
   "cell_type": "markdown",
   "metadata": {},
   "source": [
    "### Initialisation noyau proche - pas de bruit"
   ]
  },
  {
   "cell_type": "code",
   "execution_count": null,
   "metadata": {},
   "outputs": [],
   "source": [
    "alpha     = 0.05\n",
    "mu        = 0.005\n",
    "sigma,moy = 0.15, 0.05\n",
    "K_in      = np.exp(-( (d-moy)**2 / ( 2.0 * sigma**2 ) ) )\n",
    "K_in      = K_in/K_in.sum() # Simplex\n",
    "x_in      = x_b\n",
    "Kd,xd,Etot = AlternatingBD(K_in,x_in,x_b,alpha,mu,alte=5,\\\n",
    "               niter_TV=200,niter_Lap =200,proj_simplex=False)"
   ]
  },
  {
   "cell_type": "code",
   "execution_count": null,
   "metadata": {},
   "outputs": [],
   "source": [
    "plt.plot(Etot,'+')\n",
    "plt.title(\"Initialisation proche, pas de bruit\")"
   ]
  },
  {
   "cell_type": "markdown",
   "metadata": {},
   "source": [
    "### Initialisation proche - bruit 1%"
   ]
  },
  {
   "cell_type": "code",
   "execution_count": null,
   "metadata": {},
   "outputs": [],
   "source": [
    "alpha = 0.1\n",
    "mu    = 0.05\n",
    "sigma,moy = 0.15, 0.05\n",
    "K_in      = np.exp(-( (d-moy)**2 / ( 2.0 * sigma**2 ) ) )\n",
    "K_in      = K_in/K_in.sum() # Simplex\n",
    "x_in      = x_b\n",
    "Kd,xd,Etot = AlternatingBD(K_in,x_in,x_o1,alpha,mu,alte=5,\\\n",
    "               niter_TV=200,niter_Lap =200,proj_simplex=False)"
   ]
  },
  {
   "cell_type": "code",
   "execution_count": null,
   "metadata": {},
   "outputs": [],
   "source": [
    "plt.plot(Etot,'+')\n",
    "plt.title(\"Initialisation proche, bruit 0.01\")"
   ]
  },
  {
   "cell_type": "markdown",
   "metadata": {},
   "source": [
    "### Initialisation proche - bruit 1% - projection sur le simplex"
   ]
  },
  {
   "cell_type": "code",
   "execution_count": null,
   "metadata": {},
   "outputs": [],
   "source": [
    "alpha = 0.1\n",
    "mu    = 0.05\n",
    "sigma,moy = 0.15, 0.05\n",
    "K_in      = np.exp(-( (d-moy)**2 / ( 2.0 * sigma**2 ) ) )\n",
    "K_in      = K_in/K_in.sum() # Simplex\n",
    "x_in      = x_b\n",
    "Kd,xd,Etot = AlternatingBD(K_in,x_in,x_o1,alpha,mu,alte=5,\\\n",
    "               niter_TV=200,niter_Lap =200,proj_simplex=True)"
   ]
  },
  {
   "cell_type": "code",
   "execution_count": null,
   "metadata": {},
   "outputs": [],
   "source": [
    "plt.plot(Etot,'+')\n",
    "plt.title(\"Initialisation proche, bruit 0.01, proj sur simplex\")"
   ]
  },
  {
   "cell_type": "markdown",
   "metadata": {},
   "source": [
    "### Initialisation lointaine, bruit 1%, proj sur simplex"
   ]
  },
  {
   "cell_type": "code",
   "execution_count": null,
   "metadata": {},
   "outputs": [],
   "source": [
    "alpha = 0.1\n",
    "mu    = 0.05\n",
    "sigma,moy = 0.4, 0.1\n",
    "K_in      = np.exp(-( (d-moy)**2 / ( 2.0 * sigma**2 ) ) )\n",
    "K_in      = K_in/K_in.sum() # Simplex\n",
    "x_in      = x_b\n",
    "Kd,xd,Etot = AlternatingBD(K_in,x_in,x_o1,alpha,mu,alte=5,\\\n",
    "               niter_TV=200,niter_Lap =200,proj_simplex=True)"
   ]
  },
  {
   "cell_type": "code",
   "execution_count": null,
   "metadata": {},
   "outputs": [],
   "source": [
    "plt.plot(Etot,'+')\n",
    "plt.title(\"Initialisation proche, bruit 0.01, proj sur simplex\")"
   ]
  },
  {
   "cell_type": "code",
   "execution_count": null,
   "metadata": {},
   "outputs": [],
   "source": []
  }
 ],
 "metadata": {
  "kernelspec": {
   "display_name": "Python 3",
   "language": "python",
   "name": "python3"
  },
  "language_info": {
   "codemirror_mode": {
    "name": "ipython",
    "version": 3
   },
   "file_extension": ".py",
   "mimetype": "text/x-python",
   "name": "python",
   "nbconvert_exporter": "python",
   "pygments_lexer": "ipython3",
   "version": "3.9.1"
  }
 },
 "nbformat": 4,
 "nbformat_minor": 4
}
